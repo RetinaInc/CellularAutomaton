{
 "cells": [
  {
   "cell_type": "markdown",
   "metadata": {
    "collapsed": false,
    "scrolled": true
   },
   "source": [
    "<center><h1>Testing and Documentation Notebook for Cellular Automaton Using a Custom Class Object</h1></center>\n",
    "<p>This document is for testing of a cellular automaton.  It is implemented using a custom class, cell.  This class creates an object which has the functionality to calculate its state in the next time step.  For the cellular automaton simulation, we will create a two dimensional list of these objects.  This will form our computational grid.</p>\n",
    "<h2>Initialization</h2>"
   ]
  },
  {
   "cell_type": "code",
   "execution_count": 12,
   "metadata": {
    "collapsed": true
   },
   "outputs": [],
   "source": [
    "from CellularAutomaton import *\n",
    "from IPython.display import display\n",
    "\n",
    "from math import *\n",
    "%matplotlib inline\n",
    "import matplotlib\n",
    "from matplotlib import pyplot as plt\n",
    "\n",
    "from matplotlib import animation\n",
    "matplotlib.rc('animation', html='html5')\n",
    "\n",
    "goldenratio=1/2*(1+sqrt(5))\n",
    "fsx=7\n",
    "fsy=fsx/goldenratio"
   ]
  },
  {
   "cell_type": "markdown",
   "metadata": {},
   "source": [
    "<h3>Functions to help with testing</h3>"
   ]
  },
  {
   "cell_type": "code",
   "execution_count": 13,
   "metadata": {
    "collapsed": false
   },
   "outputs": [],
   "source": [
    "def print_grid():\n",
    "    print(grid[0][0], grid[0][1], grid[0][2],'\\n',\n",
    "    grid[1][0], grid[1][1], grid[1][2],'\\n',\n",
    "    grid[2][0], grid[2][1], grid[2][2])"
   ]
  },
  {
   "cell_type": "code",
   "execution_count": 14,
   "metadata": {
    "collapsed": false
   },
   "outputs": [],
   "source": [
    "def u():\n",
    "    for row in grid:\n",
    "        for c in row:\n",
    "            c.set_old_state()\n",
    "    for row in grid:\n",
    "        for c in row:\n",
    "            c.update()\n",
    "    gridvalues=[[grid[y][x].value for x in range(columns)] for y in range(rows)]\n",
    "    print_grid()"
   ]
  },
  {
   "cell_type": "markdown",
   "metadata": {},
   "source": [
    "<h3>Functions for Making Animations"
   ]
  },
  {
   "cell_type": "code",
   "execution_count": 15,
   "metadata": {
    "collapsed": false
   },
   "outputs": [
    {
     "data": {
      "image/png": "[encoded data removed]",
      "text/plain": [
       "<matplotlib.figure.Figure at 0x85ce390>"
      ]
     },
     "metadata": {},
     "output_type": "display_data"
    }
   ],
   "source": [
    "MyFigure, MyAxes = plt.subplots(1,1,figsize=(fsx,fsy))"
   ]
  },
  {
   "cell_type": "code",
   "execution_count": 16,
   "metadata": {
    "collapsed": false
   },
   "outputs": [],
   "source": [
    "def uf():\n",
    "    for row in grid:\n",
    "        for c in row:\n",
    "            c.set_old_state()\n",
    "    for row in grid:\n",
    "        for c in row:\n",
    "            c.update()\n",
    "    gridvalues=[[grid[y][x].value for x in range(columns)] for y in range(rows)]\n",
    "    MyAxes.matshow(gridvalues)\n",
    "    MyFigure"
   ]
  },
  {
   "cell_type": "code",
   "execution_count": 17,
   "metadata": {
    "collapsed": true
   },
   "outputs": [],
   "source": [
    "def af(n):\n",
    "    uf()"
   ]
  },
  {
   "cell_type": "markdown",
   "metadata": {},
   "source": [
    "<h2>Cellular Automaton</h2>\n",
    "<p>Some good reasources for cellular automaton simulations are:\n",
    "<ul>\n",
    "<li><a href=http://web.stanford.edu/~cdebs/GameOfLife/>A page</a> describing Conway's Game of Life and the origins of cellular automaton</li>\n",
    "<li>Well, right now I guess I just have this one link.</li>\n",
    "</ul></p>"
   ]
  },
  {
   "cell_type": "markdown",
   "metadata": {},
   "source": [
    "<h2>Test a 3 x 3 Behavior</h2>"
   ]
  },
  {
   "cell_type": "code",
   "execution_count": 18,
   "metadata": {
    "collapsed": false
   },
   "outputs": [
    {
     "name": "stdout",
     "output_type": "stream",
     "text": [
      "0 1 0 \n",
      " 0 0 1 \n",
      " 1 0 1\n"
     ]
    },
    {
     "data": {
      "image/png": "[encoded data removed]",
      "text/plain": [
       "<matplotlib.figure.Figure at 0x8549ac8>"
      ]
     },
     "metadata": {},
     "output_type": "display_data"
    }
   ],
   "source": [
    "rows = 3\n",
    "columns = 3\n",
    "grid=[[cell() for x in range(columns)] for y in range(rows)]\n",
    "#cell sets its state randomly if no state is passed.\n",
    "SetNeighbors(grid, columns, rows)\n",
    "gridvalues=[[grid[y][x].value for x in range(columns)] for y in range(rows)]\n",
    "MyFigure, MyAxes = plt.subplots()\n",
    "MyAxes.matshow(gridvalues)\n",
    "MyFigure\n",
    "print_grid()"
   ]
  },
  {
   "cell_type": "code",
   "execution_count": 19,
   "metadata": {
    "collapsed": false
   },
   "outputs": [
    {
     "name": "stdout",
     "output_type": "stream",
     "text": [
      "0 1 0 \n",
      " 0 0 1 \n",
      " 1 0 1\n"
     ]
    }
   ],
   "source": [
    "u()"
   ]
  },
  {
   "cell_type": "code",
   "execution_count": 20,
   "metadata": {
    "collapsed": false
   },
   "outputs": [
    {
     "name": "stdout",
     "output_type": "stream",
     "text": [
      "0 1 0 \n",
      " 0 0 1 \n",
      " 1 0 1\n"
     ]
    }
   ],
   "source": [
    "u()"
   ]
  },
  {
   "cell_type": "code",
   "execution_count": 21,
   "metadata": {
    "collapsed": false
   },
   "outputs": [
    {
     "name": "stdout",
     "output_type": "stream",
     "text": [
      "0 1 0 \n",
      " 0 0 1 \n",
      " 1 0 1\n"
     ]
    }
   ],
   "source": [
    "u()"
   ]
  },
  {
   "cell_type": "code",
   "execution_count": 22,
   "metadata": {
    "collapsed": false
   },
   "outputs": [
    {
     "name": "stdout",
     "output_type": "stream",
     "text": [
      "0 1 0 \n",
      " 0 0 1 \n",
      " 1 0 1\n"
     ]
    }
   ],
   "source": [
    "u()"
   ]
  },
  {
   "cell_type": "code",
   "execution_count": 23,
   "metadata": {
    "collapsed": false
   },
   "outputs": [
    {
     "name": "stdout",
     "output_type": "stream",
     "text": [
      "0 1 0 \n",
      " 0 0 1 \n",
      " 1 0 1\n"
     ]
    }
   ],
   "source": [
    "u()"
   ]
  },
  {
   "cell_type": "markdown",
   "metadata": {},
   "source": [
    "<h2>Small Grid Animation Test</h2>"
   ]
  },
  {
   "cell_type": "code",
   "execution_count": null,
   "metadata": {
    "collapsed": false
   },
   "outputs": [],
   "source": [
    "cell.ProbInitialTrue = .1\n",
    "rows = 25\n",
    "columns = 50\n",
    "grid=[[cell() for x in range(columns)] for y in range(rows)]\n",
    "SetNeighbors(grid, columns, rows)\n",
    "gridvalues=[[grid[y][x].value for x in range(columns)] for y in range(rows)]\n",
    "MyFigure, MyAxes = plt.subplots()\n",
    "MyAxes.matshow(gridvalues)\n",
    "MyFigure"
   ]
  },
  {
   "cell_type": "code",
   "execution_count": null,
   "metadata": {
    "collapsed": false
   },
   "outputs": [],
   "source": [
    "AnimationFrames = 100  #total number of frames in animation.\n",
    "DelayBetweenFrames = 33 #in msec (20 gives 50 fps) (33.3 gives 30 fps)\n",
    "AnimationTime = AnimationFrames * DelayBetweenFrames/1000\n",
    "print (\"The animation will be {:.1f} seconds long.\".format(AnimationTime))"
   ]
  },
  {
   "cell_type": "code",
   "execution_count": null,
   "metadata": {
    "collapsed": false
   },
   "outputs": [],
   "source": [
    "MyAnimation = animation.FuncAnimation(MyFigure, af,\n",
    "                               frames=AnimationFrames, interval=DelayBetweenFrames, blit=False)\n",
    "MyAnimation"
   ]
  },
  {
   "cell_type": "markdown",
   "metadata": {},
   "source": [
    "<h2>Glider Example</h2>\n",
    "<h3>Small Grid Example</h3>"
   ]
  },
  {
   "cell_type": "code",
   "execution_count": null,
   "metadata": {
    "collapsed": false
   },
   "outputs": [],
   "source": [
    "cell.ProbInitialTrue = 0\n",
    "rows = 5\n",
    "columns = 5\n",
    "grid=[[cell() for x in range(columns)] for y in range(rows)]\n",
    "SetNeighbors(grid, columns, rows)\n",
    "\n",
    "grid[0][1].state = True\n",
    "grid[1][1].state = True\n",
    "grid[1][2].state = True\n",
    "grid[2][0].state = True\n",
    "grid[2][2].state = True\n",
    "\n",
    "[[grid[y][x].set_value() for x in range(columns)] for y in range(rows)]\n",
    "gridvalues=[[grid[y][x].value for x in range(columns)] for y in range(rows)]\n",
    "MyFigure, MyAxes = plt.subplots()\n",
    "MyAxes.matshow(gridvalues)\n",
    "MyFigure"
   ]
  },
  {
   "cell_type": "code",
   "execution_count": null,
   "metadata": {
    "collapsed": false
   },
   "outputs": [],
   "source": [
    "AnimationFrames = 100  #total number of frames in animation.\n",
    "DelayBetweenFrames = 33 #in msec (20 gives 50 fps) (33.3 gives 30 fps)\n",
    "AnimationTime = AnimationFrames * DelayBetweenFrames/1000\n",
    "print (\"The animation will be {:.1f} seconds long.\".format(AnimationTime))"
   ]
  },
  {
   "cell_type": "code",
   "execution_count": null,
   "metadata": {
    "collapsed": false
   },
   "outputs": [],
   "source": [
    "MyAnimation = animation.FuncAnimation(MyFigure, af,\n",
    "                               frames=AnimationFrames, interval=DelayBetweenFrames, blit=False)\n",
    "MyAnimation"
   ]
  },
  {
   "cell_type": "markdown",
   "metadata": {},
   "source": [
    "<h3>Large Grid Example</h3>"
   ]
  },
  {
   "cell_type": "code",
   "execution_count": null,
   "metadata": {
    "collapsed": false
   },
   "outputs": [],
   "source": [
    "cell.ProbInitialTrue = 0\n",
    "rows = 50\n",
    "columns = 75\n",
    "grid=[[cell() for x in range(columns)] for y in range(rows)]\n",
    "SetNeighbors(grid, columns, rows)\n",
    "\n",
    "grid[0][1].state = True\n",
    "grid[1][1].state = True\n",
    "grid[1][2].state = True\n",
    "grid[2][0].state = True\n",
    "grid[2][2].state = True\n",
    "\n",
    "[[grid[y][x].set_value() for x in range(columns)] for y in range(rows)]\n",
    "gridvalues=[[grid[y][x].value for x in range(columns)] for y in range(rows)]\n",
    "MyFigure, MyAxes = plt.subplots()\n",
    "MyAxes.matshow(gridvalues)\n",
    "MyFigure"
   ]
  },
  {
   "cell_type": "code",
   "execution_count": null,
   "metadata": {
    "collapsed": false
   },
   "outputs": [],
   "source": [
    "AnimationFrames = 1000  #total number of frames in animation.\n",
    "DelayBetweenFrames = 20 #in msec (20 gives 50 fps) (33.3 gives 30 fps)\n",
    "AnimationTime = AnimationFrames * DelayBetweenFrames/1000\n",
    "print (\"The animation will be {:.1f} seconds long.\".format(AnimationTime))"
   ]
  },
  {
   "cell_type": "code",
   "execution_count": null,
   "metadata": {
    "collapsed": false
   },
   "outputs": [],
   "source": [
    "MyAnimation = animation.FuncAnimation(MyFigure, af,\n",
    "                               frames=AnimationFrames, interval=DelayBetweenFrames, blit=False)\n",
    "MyAnimation"
   ]
  },
  {
   "cell_type": "markdown",
   "metadata": {},
   "source": [
    "<h2>Full Game of Life Simulations</h2>\n",
    "<h3>Simulation 01</h3>"
   ]
  },
  {
   "cell_type": "code",
   "execution_count": null,
   "metadata": {
    "collapsed": false
   },
   "outputs": [],
   "source": [
    "cell.ProbInitialTrue = .07\n",
    "rows = 25\n",
    "columns = 50\n",
    "grid=[[cell() for x in range(columns)] for y in range(rows)]\n",
    "SetNeighbors(grid, columns, rows)\n",
    "gridvalues=[[grid[y][x].value for x in range(columns)] for y in range(rows)]\n",
    "MyFigure, MyAxes = plt.subplots()\n",
    "MyAxes.matshow(gridvalues)\n",
    "MyFigure"
   ]
  },
  {
   "cell_type": "code",
   "execution_count": null,
   "metadata": {
    "collapsed": false
   },
   "outputs": [],
   "source": [
    "AnimationFrames = 100  #total number of frames in animation.\n",
    "DelayBetweenFrames = 50 #in msec (20 gives 50 fps) (33.3 gives 30 fps)\n",
    "AnimationTime = AnimationFrames * DelayBetweenFrames/1000\n",
    "print (\"The animation will be {:.1f} seconds long.\".format(AnimationTime))"
   ]
  },
  {
   "cell_type": "code",
   "execution_count": null,
   "metadata": {
    "collapsed": false
   },
   "outputs": [],
   "source": [
    "MyAnimation = animation.FuncAnimation(MyFigure, af,\n",
    "                               frames=AnimationFrames, interval=DelayBetweenFrames, blit=False)\n",
    "MyAnimation"
   ]
  },
  {
   "cell_type": "markdown",
   "metadata": {},
   "source": [
    "<h3>Simulation 02</h3>"
   ]
  },
  {
   "cell_type": "code",
   "execution_count": null,
   "metadata": {
    "collapsed": false
   },
   "outputs": [],
   "source": [
    "cell.ProbInitialTrue = .051\n",
    "rows = 25\n",
    "columns = 50\n",
    "grid=[[cell() for x in range(columns)] for y in range(rows)]\n",
    "SetNeighbors(grid, columns, rows)\n",
    "gridvalues=[[grid[y][x].value for x in range(columns)] for y in range(rows)]\n",
    "MyFigure, MyAxes = plt.subplots()\n",
    "MyAxes.matshow(gridvalues)\n",
    "MyFigure"
   ]
  },
  {
   "cell_type": "code",
   "execution_count": null,
   "metadata": {
    "collapsed": false
   },
   "outputs": [],
   "source": [
    "AnimationFrames = 100  #total number of frames in animation.\n",
    "DelayBetweenFrames = 50 #in msec (20 gives 50 fps) (33.3 gives 30 fps)\n",
    "AnimationTime = AnimationFrames * DelayBetweenFrames/1000\n",
    "print (\"The animation will be {:.1f} seconds long.\".format(AnimationTime))"
   ]
  },
  {
   "cell_type": "code",
   "execution_count": null,
   "metadata": {
    "collapsed": false
   },
   "outputs": [],
   "source": [
    "MyAnimation = animation.FuncAnimation(MyFigure, af,\n",
    "                               frames=AnimationFrames, interval=DelayBetweenFrames, blit=False)\n",
    "MyAnimation"
   ]
  },
  {
   "cell_type": "code",
   "execution_count": null,
   "metadata": {
    "collapsed": true
   },
   "outputs": [],
   "source": []
  }
 ],
 "metadata": {
  "anaconda-cloud": {},
  "kernelspec": {
   "display_name": "Python [conda root]",
   "language": "python",
   "name": "conda-root-py"
  },
  "language_info": {
   "codemirror_mode": {
    "name": "ipython",
    "version": 3
   },
   "file_extension": ".py",
   "mimetype": "text/x-python",
   "name": "python",
   "nbconvert_exporter": "python",
   "pygments_lexer": "ipython3",
   "version": "3.5.2"
  }
 },
 "nbformat": 4,
 "nbformat_minor": 0
}
