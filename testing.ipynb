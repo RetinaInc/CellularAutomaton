{
 "cells": [
  {
   "cell_type": "markdown",
   "metadata": {
    "collapsed": false,
    "scrolled": true
   },
   "source": [
    "<center><h1>Testing and Documentation Notebook for Cellular Automaton Using a Custom Class Object</h1></center>\n",
    "<p>This document is for testing of a cellular automaton.  It is implemented using a custom class, cell.  This class creates an object which has the functionality to calculate its state in the next time step.  For the cellular automaton simulation, we will create a two dimensional list of these objects.  This will form our computational grid.</p>\n",
    "<h2>Initialization</h2>"
   ]
  },
  {
   "cell_type": "code",
   "execution_count": 8,
   "metadata": {
    "collapsed": true
   },
   "outputs": [],
   "source": [
    "from CellularAutomaton import *\n",
    "from IPython.display import display\n",
    "import inspect\n",
    "\n",
    "from math import *\n",
    "%matplotlib inline\n",
    "import matplotlib\n",
    "from matplotlib import pyplot as plt\n",
    "\n",
    "from matplotlib import animation\n",
    "matplotlib.rc('animation', html='html5')\n",
    "\n",
    "goldenratio=1/2*(1+sqrt(5))\n",
    "fsx=7\n",
    "fsy=fsx/goldenratio\n",
    "\n",
    "def InfoDocString(function):\n",
    "    \"\"\"Function to return function definition and document string.\"\"\"\n",
    "    \n",
    "    code = inspect.getsource(function)\n",
    "    docstring = inspect.getdoc(function)\n",
    "    return code[0:code.find(':')+1].lstrip() +'\\n' + docstring"
   ]
  },
  {
   "cell_type": "markdown",
   "metadata": {},
   "source": [
    "<h3>Functions to help with testing</h3>\n",
    "<p>Note:  These functions make use of the data being passed through a 2D list of cells named grid.</p>"
   ]
  },
  {
   "cell_type": "code",
   "execution_count": 9,
   "metadata": {
    "collapsed": false
   },
   "outputs": [],
   "source": [
    "def print_grid():\n",
    "    print(grid[0][0], grid[0][1], grid[0][2],'\\n',\n",
    "    grid[1][0], grid[1][1], grid[1][2],'\\n',\n",
    "    grid[2][0], grid[2][1], grid[2][2])"
   ]
  },
  {
   "cell_type": "code",
   "execution_count": 10,
   "metadata": {
    "collapsed": false
   },
   "outputs": [],
   "source": [
    "def u():\n",
    "    for row in grid:\n",
    "        for c in row:\n",
    "            c.set_old_state()\n",
    "    for row in grid:\n",
    "        for c in row:\n",
    "            c.update()\n",
    "    gridvalues=[[grid[y][x].value for x in range(columns)] for y in range(rows)]\n",
    "    print_grid()"
   ]
  },
  {
   "cell_type": "markdown",
   "metadata": {},
   "source": [
    "<h3>Functions for Making Animations"
   ]
  },
  {
   "cell_type": "code",
   "execution_count": 11,
   "metadata": {
    "collapsed": false
   },
   "outputs": [
    {
     "data": {
      "image/png": "[encoded data removed]",
      "text/plain": [
       "<matplotlib.figure.Figure at 0x7c68860>"
      ]
     },
     "metadata": {},
     "output_type": "display_data"
    }
   ],
   "source": [
    "MyFigure, MyAxes = plt.subplots(1,1,figsize=(fsx,fsy))"
   ]
  },
  {
   "cell_type": "code",
   "execution_count": 12,
   "metadata": {
    "collapsed": false
   },
   "outputs": [],
   "source": [
    "def uf():\n",
    "    for row in grid:\n",
    "        for c in row:\n",
    "            c.set_old_state()\n",
    "    for row in grid:\n",
    "        for c in row:\n",
    "            c.update()\n",
    "    gridvalues=[[grid[y][x].value for x in range(columns)] for y in range(rows)]\n",
    "    MyAxes.matshow(gridvalues)\n",
    "    MyFigure"
   ]
  },
  {
   "cell_type": "code",
   "execution_count": 13,
   "metadata": {
    "collapsed": true
   },
   "outputs": [],
   "source": [
    "def af(n):\n",
    "    uf()"
   ]
  },
  {
   "cell_type": "markdown",
   "metadata": {},
   "source": [
    "<h2>Cellular Automaton</h2>\n",
    "<p>Some good reasources for cellular automaton simulations are:\n",
    "<ul>\n",
    "<li><a href=http://web.stanford.edu/~cdebs/GameOfLife/>A page</a> describing Conway's Game of Life and the origins of cellular automaton</li>\n",
    "<li>Well, right now I guess I just have this one link.</li>\n",
    "</ul></p>\n",
    "<h2>Python Classes</h2>\n",
    "<p>Classes enable us to create computer objects which have structure.  They contain variables (called data attributes) and have functions (called methods) which can do stuff.  When an class is first used it creates an 'instance' of the object.  There can be multiple objects from the same class in exestiance at the same time.  The python tutorial does a good job of <a href= https://docs.python.org/3/tutorial/classes.html >explaining classes</a>.</p>\n",
    "<p>The stucture of the class 'Cell' is described by its document string.</p>"
   ]
  },
  {
   "cell_type": "code",
   "execution_count": 14,
   "metadata": {
    "collapsed": false
   },
   "outputs": [
    {
     "name": "stdout",
     "output_type": "stream",
     "text": [
      "class Cell:\n",
      "Cell is an object for cellular automaton simulations (especially game of life simulations).\n",
      "\n",
      "The cell object will keep track of its state, neighbors and update itself when update is called.\n",
      "This object is for the cell only.  It does not create an entire grid, nor can it determine what\n",
      "its neighbors are.\n",
      "\n",
      "Class variables:\n",
      "    These are the same for all instances of the class.\n",
      "\n",
      "    ProbInitialTrue = 0.5   ->  Used in __init__ to determine if the cell is initialized to\n",
      "                                True or False.\n",
      "\n",
      "Instance Variables (or Data Attributes):\n",
      "\n",
      "    These are unique for each instance of the class.\n",
      "\n",
      "    .state          ->  In the game of life, this tracks if the cell is 'alive' or 'dead.'\n",
      "    .value          ->  Python expects this attribute to be returned in various cases.\n",
      "    Neighbors[]     ->  List of cell neighbors.  This list is used by update to know where to\n",
      "                        check values.  This list must be set before calls to update.\n",
      "                        This class provides no functionality for calculating the neighbors.\n",
      "    OldState        ->  Used in update to store the cell value from the previous time step.\n",
      "                        This enables all cells to calculate their new state based on values\n",
      "                        from the previous time step.\n",
      "\n",
      "Methods:\n",
      "    These are the functions of the class.\n",
      "    update          ->  Calculates and sets cell value for the single timestep.\n",
      "                        It sets .state and updates .value.\n",
      "                        This method does not modify .OldState\n",
      "    set_old_state   ->  Simplly sets .OldState = .State.  A function for this is not really\n",
      "                        needed as .OldState = .State from outside the class would work fine.\n"
     ]
    }
   ],
   "source": [
    "print(InfoDocString(Cell))"
   ]
  },
  {
   "cell_type": "markdown",
   "metadata": {},
   "source": [
    "<h2>Test a 3 x 3 Behavior</h2>"
   ]
  },
  {
   "cell_type": "code",
   "execution_count": 26,
   "metadata": {
    "collapsed": false
   },
   "outputs": [
    {
     "name": "stdout",
     "output_type": "stream",
     "text": [
      "1 0 1 \n",
      " 1 0 1 \n",
      " 1 1 0\n"
     ]
    },
    {
     "data": {
      "image/png": "[encoded data removed]",
      "text/plain": [
       "<matplotlib.figure.Figure at 0x8667128>"
      ]
     },
     "metadata": {},
     "output_type": "display_data"
    }
   ],
   "source": [
    "rows = 3\n",
    "columns = 3\n",
    "grid=[[Cell() for x in range(columns)] for y in range(rows)]\n",
    "#Cell sets its state randomly if no state is passed.\n",
    "SetNeighbors(grid, columns, rows)\n",
    "gridvalues=[[grid[y][x].value for x in range(columns)] for y in range(rows)]\n",
    "MyFigure, MyAxes = plt.subplots()\n",
    "MyAxes.matshow(gridvalues)\n",
    "MyFigure\n",
    "print_grid()"
   ]
  },
  {
   "cell_type": "code",
   "execution_count": 31,
   "metadata": {
    "collapsed": false
   },
   "outputs": [
    {
     "data": {
      "text/plain": [
       "'<CellularAutomaton.Cell object at 0x00000000086D0BA8>'"
      ]
     },
     "execution_count": 31,
     "metadata": {},
     "output_type": "execute_result"
    }
   ],
   "source": [
    "repr(grid[0][0])"
   ]
  },
  {
   "cell_type": "code",
   "execution_count": 27,
   "metadata": {
    "collapsed": false
   },
   "outputs": [
    {
     "name": "stdout",
     "output_type": "stream",
     "text": [
      "1 0 1 \n",
      " 1 0 1 \n",
      " 1 1 0\n"
     ]
    }
   ],
   "source": [
    "u()"
   ]
  },
  {
   "cell_type": "code",
   "execution_count": 28,
   "metadata": {
    "collapsed": false
   },
   "outputs": [
    {
     "name": "stdout",
     "output_type": "stream",
     "text": [
      "1 0 1 \n",
      " 1 0 1 \n",
      " 1 1 0\n"
     ]
    }
   ],
   "source": [
    "u()"
   ]
  },
  {
   "cell_type": "code",
   "execution_count": 21,
   "metadata": {
    "collapsed": false
   },
   "outputs": [
    {
     "name": "stdout",
     "output_type": "stream",
     "text": [
      "1 1 1 \n",
      " 1 1 1 \n",
      " 1 1 1\n"
     ]
    }
   ],
   "source": [
    "u()"
   ]
  },
  {
   "cell_type": "code",
   "execution_count": 22,
   "metadata": {
    "collapsed": false
   },
   "outputs": [
    {
     "name": "stdout",
     "output_type": "stream",
     "text": [
      "0 1 0 \n",
      " 0 0 1 \n",
      " 1 0 1\n"
     ]
    }
   ],
   "source": [
    "u()"
   ]
  },
  {
   "cell_type": "code",
   "execution_count": 23,
   "metadata": {
    "collapsed": false
   },
   "outputs": [
    {
     "name": "stdout",
     "output_type": "stream",
     "text": [
      "0 1 0 \n",
      " 0 0 1 \n",
      " 1 0 1\n"
     ]
    }
   ],
   "source": [
    "u()"
   ]
  },
  {
   "cell_type": "markdown",
   "metadata": {},
   "source": [
    "<h2>Small Grid Animation Test</h2>"
   ]
  },
  {
   "cell_type": "code",
   "execution_count": null,
   "metadata": {
    "collapsed": false
   },
   "outputs": [],
   "source": [
    "cell.ProbInitialTrue = .1\n",
    "rows = 25\n",
    "columns = 50\n",
    "grid=[[cell() for x in range(columns)] for y in range(rows)]\n",
    "SetNeighbors(grid, columns, rows)\n",
    "gridvalues=[[grid[y][x].value for x in range(columns)] for y in range(rows)]\n",
    "MyFigure, MyAxes = plt.subplots()\n",
    "MyAxes.matshow(gridvalues)\n",
    "MyFigure"
   ]
  },
  {
   "cell_type": "code",
   "execution_count": null,
   "metadata": {
    "collapsed": false
   },
   "outputs": [],
   "source": [
    "AnimationFrames = 100  #total number of frames in animation.\n",
    "DelayBetweenFrames = 33 #in msec (20 gives 50 fps) (33.3 gives 30 fps)\n",
    "AnimationTime = AnimationFrames * DelayBetweenFrames/1000\n",
    "print (\"The animation will be {:.1f} seconds long.\".format(AnimationTime))"
   ]
  },
  {
   "cell_type": "code",
   "execution_count": null,
   "metadata": {
    "collapsed": false
   },
   "outputs": [],
   "source": [
    "MyAnimation = animation.FuncAnimation(MyFigure, af,\n",
    "                               frames=AnimationFrames, interval=DelayBetweenFrames, blit=False)\n",
    "MyAnimation"
   ]
  },
  {
   "cell_type": "markdown",
   "metadata": {},
   "source": [
    "<h2>Glider Example</h2>\n",
    "<h3>Small Grid Example</h3>"
   ]
  },
  {
   "cell_type": "code",
   "execution_count": null,
   "metadata": {
    "collapsed": false
   },
   "outputs": [],
   "source": [
    "cell.ProbInitialTrue = 0\n",
    "rows = 5\n",
    "columns = 5\n",
    "grid=[[cell() for x in range(columns)] for y in range(rows)]\n",
    "SetNeighbors(grid, columns, rows)\n",
    "\n",
    "grid[0][1].state = True\n",
    "grid[1][1].state = True\n",
    "grid[1][2].state = True\n",
    "grid[2][0].state = True\n",
    "grid[2][2].state = True\n",
    "\n",
    "[[grid[y][x].set_value() for x in range(columns)] for y in range(rows)]\n",
    "gridvalues=[[grid[y][x].value for x in range(columns)] for y in range(rows)]\n",
    "MyFigure, MyAxes = plt.subplots()\n",
    "MyAxes.matshow(gridvalues)\n",
    "MyFigure"
   ]
  },
  {
   "cell_type": "code",
   "execution_count": null,
   "metadata": {
    "collapsed": false
   },
   "outputs": [],
   "source": [
    "AnimationFrames = 100  #total number of frames in animation.\n",
    "DelayBetweenFrames = 33 #in msec (20 gives 50 fps) (33.3 gives 30 fps)\n",
    "AnimationTime = AnimationFrames * DelayBetweenFrames/1000\n",
    "print (\"The animation will be {:.1f} seconds long.\".format(AnimationTime))"
   ]
  },
  {
   "cell_type": "code",
   "execution_count": null,
   "metadata": {
    "collapsed": false
   },
   "outputs": [],
   "source": [
    "MyAnimation = animation.FuncAnimation(MyFigure, af,\n",
    "                               frames=AnimationFrames, interval=DelayBetweenFrames, blit=False)\n",
    "MyAnimation"
   ]
  },
  {
   "cell_type": "markdown",
   "metadata": {},
   "source": [
    "<h3>Large Grid Example</h3>"
   ]
  },
  {
   "cell_type": "code",
   "execution_count": null,
   "metadata": {
    "collapsed": false
   },
   "outputs": [],
   "source": [
    "cell.ProbInitialTrue = 0\n",
    "rows = 50\n",
    "columns = 75\n",
    "grid=[[cell() for x in range(columns)] for y in range(rows)]\n",
    "SetNeighbors(grid, columns, rows)\n",
    "\n",
    "grid[0][1].state = True\n",
    "grid[1][1].state = True\n",
    "grid[1][2].state = True\n",
    "grid[2][0].state = True\n",
    "grid[2][2].state = True\n",
    "\n",
    "[[grid[y][x].set_value() for x in range(columns)] for y in range(rows)]\n",
    "gridvalues=[[grid[y][x].value for x in range(columns)] for y in range(rows)]\n",
    "MyFigure, MyAxes = plt.subplots()\n",
    "MyAxes.matshow(gridvalues)\n",
    "MyFigure"
   ]
  },
  {
   "cell_type": "code",
   "execution_count": null,
   "metadata": {
    "collapsed": false
   },
   "outputs": [],
   "source": [
    "AnimationFrames = 1000  #total number of frames in animation.\n",
    "DelayBetweenFrames = 20 #in msec (20 gives 50 fps) (33.3 gives 30 fps)\n",
    "AnimationTime = AnimationFrames * DelayBetweenFrames/1000\n",
    "print (\"The animation will be {:.1f} seconds long.\".format(AnimationTime))"
   ]
  },
  {
   "cell_type": "code",
   "execution_count": null,
   "metadata": {
    "collapsed": false
   },
   "outputs": [],
   "source": [
    "MyAnimation = animation.FuncAnimation(MyFigure, af,\n",
    "                               frames=AnimationFrames, interval=DelayBetweenFrames, blit=False)\n",
    "MyAnimation"
   ]
  },
  {
   "cell_type": "markdown",
   "metadata": {},
   "source": [
    "<h2>Full Game of Life Simulations</h2>\n",
    "<h3>Simulation 01</h3>"
   ]
  },
  {
   "cell_type": "code",
   "execution_count": null,
   "metadata": {
    "collapsed": false
   },
   "outputs": [],
   "source": [
    "cell.ProbInitialTrue = .07\n",
    "rows = 25\n",
    "columns = 50\n",
    "grid=[[cell() for x in range(columns)] for y in range(rows)]\n",
    "SetNeighbors(grid, columns, rows)\n",
    "gridvalues=[[grid[y][x].value for x in range(columns)] for y in range(rows)]\n",
    "MyFigure, MyAxes = plt.subplots()\n",
    "MyAxes.matshow(gridvalues)\n",
    "MyFigure"
   ]
  },
  {
   "cell_type": "code",
   "execution_count": null,
   "metadata": {
    "collapsed": false
   },
   "outputs": [],
   "source": [
    "AnimationFrames = 100  #total number of frames in animation.\n",
    "DelayBetweenFrames = 50 #in msec (20 gives 50 fps) (33.3 gives 30 fps)\n",
    "AnimationTime = AnimationFrames * DelayBetweenFrames/1000\n",
    "print (\"The animation will be {:.1f} seconds long.\".format(AnimationTime))"
   ]
  },
  {
   "cell_type": "code",
   "execution_count": null,
   "metadata": {
    "collapsed": false
   },
   "outputs": [],
   "source": [
    "MyAnimation = animation.FuncAnimation(MyFigure, af,\n",
    "                               frames=AnimationFrames, interval=DelayBetweenFrames, blit=False)\n",
    "MyAnimation"
   ]
  },
  {
   "cell_type": "markdown",
   "metadata": {},
   "source": [
    "<h3>Simulation 02</h3>"
   ]
  },
  {
   "cell_type": "code",
   "execution_count": null,
   "metadata": {
    "collapsed": false
   },
   "outputs": [],
   "source": [
    "cell.ProbInitialTrue = .051\n",
    "rows = 25\n",
    "columns = 50\n",
    "grid=[[cell() for x in range(columns)] for y in range(rows)]\n",
    "SetNeighbors(grid, columns, rows)\n",
    "gridvalues=[[grid[y][x].value for x in range(columns)] for y in range(rows)]\n",
    "MyFigure, MyAxes = plt.subplots()\n",
    "MyAxes.matshow(gridvalues)\n",
    "MyFigure"
   ]
  },
  {
   "cell_type": "code",
   "execution_count": null,
   "metadata": {
    "collapsed": false
   },
   "outputs": [],
   "source": [
    "AnimationFrames = 100  #total number of frames in animation.\n",
    "DelayBetweenFrames = 50 #in msec (20 gives 50 fps) (33.3 gives 30 fps)\n",
    "AnimationTime = AnimationFrames * DelayBetweenFrames/1000\n",
    "print (\"The animation will be {:.1f} seconds long.\".format(AnimationTime))"
   ]
  },
  {
   "cell_type": "code",
   "execution_count": null,
   "metadata": {
    "collapsed": false
   },
   "outputs": [],
   "source": [
    "MyAnimation = animation.FuncAnimation(MyFigure, af,\n",
    "                               frames=AnimationFrames, interval=DelayBetweenFrames, blit=False)\n",
    "MyAnimation"
   ]
  },
  {
   "cell_type": "code",
   "execution_count": null,
   "metadata": {
    "collapsed": true
   },
   "outputs": [],
   "source": []
  }
 ],
 "metadata": {
  "anaconda-cloud": {},
  "kernelspec": {
   "display_name": "Python [conda root]",
   "language": "python",
   "name": "conda-root-py"
  },
  "language_info": {
   "codemirror_mode": {
    "name": "ipython",
    "version": 3
   },
   "file_extension": ".py",
   "mimetype": "text/x-python",
   "name": "python",
   "nbconvert_exporter": "python",
   "pygments_lexer": "ipython3",
   "version": "3.5.2"
  }
 },
 "nbformat": 4,
 "nbformat_minor": 0
}
